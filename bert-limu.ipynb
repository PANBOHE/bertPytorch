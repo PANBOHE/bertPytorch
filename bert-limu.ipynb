{
 "cells": [
  {
   "cell_type": "code",
   "execution_count": 14,
   "metadata": {},
   "outputs": [],
   "source": [
    "\n",
    "def get_tokens_and_segments(tokens_a, tokens_b = None):\n",
    "    #获取输入序列的词元及其索引\n",
    "    tokens = ['<cls>'] + tokens_a + ['<sep>']\n",
    "    #0和1分别标记第一段和第二段\n",
    "    segments = [0] * ( len(tokens_a) + 2)\n",
    "\n",
    "    #如果输入的是句子对，则需要扩充segments\n",
    "    if tokens_b is not None:\n",
    "        tokens += tokens_b + ['<sep>']\n",
    "        segments +=  [1] * ( len (tokens_b) + 1) \n",
    "    return tokens, segments"
   ]
  },
  {
   "cell_type": "code",
   "execution_count": 1,
   "metadata": {},
   "outputs": [],
   "source": [
    "import torch\n",
    "from torch import nn\n",
    "from d2l import torch as d2l\n",
    "import random"
   ]
  },
  {
   "cell_type": "code",
   "execution_count": 16,
   "metadata": {},
   "outputs": [],
   "source": [
    "\n",
    "class BERTEncoder(nn.Module):\n",
    "    # BERT编码器\n",
    "    def __init__(\n",
    "            self,\n",
    "            vocab_size,\n",
    "            num_hiddens,\n",
    "            norm_shape,\n",
    "            ffn_num_input,\n",
    "            ffn_num_hiddens,\n",
    "            num_heads,\n",
    "            num_layers,\n",
    "            dropout,\n",
    "            max_len = 1000,\n",
    "            key_size = 768,\n",
    "            query_size = 768,\n",
    "            value_size = 768,\n",
    "            **kwargs\n",
    "    ):\n",
    "        super(BERTEncoder, self).__init__(**kwargs)\n",
    "        ##token 和 segement\n",
    "        self.token_embedding = nn.Embedding(vocab_size, num_hiddens)\n",
    "        self.segement_embedding = nn.Embedding(2, num_hiddens)\n",
    "        self.blks = nn.Sequential()\n",
    "\n",
    "\n",
    "        for i in range(num_layers):\n",
    "            self.blks.add_module(f\"{i}\", d2l.EncoderBlock(\n",
    "                key_size,\n",
    "                query_size,\n",
    "                value_size,\n",
    "                num_hiddens,\n",
    "                norm_shape,\n",
    "                ffn_num_input,\n",
    "                ffn_num_hiddens,\n",
    "                num_heads,\n",
    "                dropout,\n",
    "                True\n",
    "            ))\n",
    "\n",
    "\n",
    "        #因为BERT中的位置编码是通过学习得到的，所以我们需要创建一个足够长的位置嵌入参数\n",
    "        #注意到这里初始化使用的是随机数\n",
    "        self.pos_embedding = nn.Parameter(torch.randn(1, max_len, num_hiddens))\n",
    "    \n",
    "    def forward(self, tokens, segments, valid_lens):\n",
    "        #注意X的尺寸大小，始终为(批量大小， 最大序列长度， num_hiddens)\n",
    "        X = self.token_embedding(tokens) + self.segement_embedding(segments)\n",
    "        X = X +self.pos_embedding.data[: , :X.shape[1],: ]\n",
    "        for blk in self.blks:\n",
    "            X = blk(X, valid_lens)\n",
    "            return X\n"
   ]
  },
  {
   "cell_type": "code",
   "execution_count": 17,
   "metadata": {},
   "outputs": [
    {
     "ename": "AttributeError",
     "evalue": "module 'd2l.torch' has no attribute 'EncoderBlock'",
     "output_type": "error",
     "traceback": [
      "\u001b[1;31m---------------------------------------------------------------------------\u001b[0m",
      "\u001b[1;31mAttributeError\u001b[0m                            Traceback (most recent call last)",
      "\u001b[1;32mc:\\Users\\panbo\\Desktop\\bert-limu\\bert-limu.ipynb 单元格 4\u001b[0m line \u001b[0;36m3\n\u001b[0;32m      <a href='vscode-notebook-cell:/c%3A/Users/panbo/Desktop/bert-limu/bert-limu.ipynb#W3sZmlsZQ%3D%3D?line=0'>1</a>\u001b[0m vocab_size, num_hiddens, ffn_num_hiddens, num_heads \u001b[39m=\u001b[39m \u001b[39m10000\u001b[39m, \u001b[39m768\u001b[39m, \u001b[39m1024\u001b[39m ,\u001b[39m4\u001b[39m\n\u001b[0;32m      <a href='vscode-notebook-cell:/c%3A/Users/panbo/Desktop/bert-limu/bert-limu.ipynb#W3sZmlsZQ%3D%3D?line=1'>2</a>\u001b[0m norm_shape, ffn_num_input, num_layers, dropout \u001b[39m=\u001b[39m [\u001b[39m768\u001b[39m], \u001b[39m768\u001b[39m, \u001b[39m2\u001b[39m, \u001b[39m0.2\u001b[39m\n\u001b[1;32m----> <a href='vscode-notebook-cell:/c%3A/Users/panbo/Desktop/bert-limu/bert-limu.ipynb#W3sZmlsZQ%3D%3D?line=2'>3</a>\u001b[0m encoder \u001b[39m=\u001b[39m BERTEncoder(vocab_size, num_hiddens, norm_shape, ffn_num_input, ffn_num_hiddens, num_heads, num_layers,dropout\n\u001b[0;32m      <a href='vscode-notebook-cell:/c%3A/Users/panbo/Desktop/bert-limu/bert-limu.ipynb#W3sZmlsZQ%3D%3D?line=3'>4</a>\u001b[0m                       )\n",
      "\u001b[1;32mc:\\Users\\panbo\\Desktop\\bert-limu\\bert-limu.ipynb 单元格 4\u001b[0m line \u001b[0;36m2\n\u001b[0;32m     <a href='vscode-notebook-cell:/c%3A/Users/panbo/Desktop/bert-limu/bert-limu.ipynb#W3sZmlsZQ%3D%3D?line=22'>23</a>\u001b[0m \u001b[39mself\u001b[39m\u001b[39m.\u001b[39mblks \u001b[39m=\u001b[39m nn\u001b[39m.\u001b[39mSequential()\n\u001b[0;32m     <a href='vscode-notebook-cell:/c%3A/Users/panbo/Desktop/bert-limu/bert-limu.ipynb#W3sZmlsZQ%3D%3D?line=25'>26</a>\u001b[0m \u001b[39mfor\u001b[39;00m i \u001b[39min\u001b[39;00m \u001b[39mrange\u001b[39m(num_layers):\n\u001b[1;32m---> <a href='vscode-notebook-cell:/c%3A/Users/panbo/Desktop/bert-limu/bert-limu.ipynb#W3sZmlsZQ%3D%3D?line=26'>27</a>\u001b[0m     \u001b[39mself\u001b[39m\u001b[39m.\u001b[39mblks\u001b[39m.\u001b[39madd_module(\u001b[39mf\u001b[39m\u001b[39m\"\u001b[39m\u001b[39m{\u001b[39;00mi\u001b[39m}\u001b[39;00m\u001b[39m\"\u001b[39m, d2l\u001b[39m.\u001b[39;49mEncoderBlock(\n\u001b[0;32m     <a href='vscode-notebook-cell:/c%3A/Users/panbo/Desktop/bert-limu/bert-limu.ipynb#W3sZmlsZQ%3D%3D?line=27'>28</a>\u001b[0m         key_size,\n\u001b[0;32m     <a href='vscode-notebook-cell:/c%3A/Users/panbo/Desktop/bert-limu/bert-limu.ipynb#W3sZmlsZQ%3D%3D?line=28'>29</a>\u001b[0m         query_size,\n\u001b[0;32m     <a href='vscode-notebook-cell:/c%3A/Users/panbo/Desktop/bert-limu/bert-limu.ipynb#W3sZmlsZQ%3D%3D?line=29'>30</a>\u001b[0m         value_size,\n\u001b[0;32m     <a href='vscode-notebook-cell:/c%3A/Users/panbo/Desktop/bert-limu/bert-limu.ipynb#W3sZmlsZQ%3D%3D?line=30'>31</a>\u001b[0m         num_hiddens,\n\u001b[0;32m     <a href='vscode-notebook-cell:/c%3A/Users/panbo/Desktop/bert-limu/bert-limu.ipynb#W3sZmlsZQ%3D%3D?line=31'>32</a>\u001b[0m         norm_shape,\n\u001b[0;32m     <a href='vscode-notebook-cell:/c%3A/Users/panbo/Desktop/bert-limu/bert-limu.ipynb#W3sZmlsZQ%3D%3D?line=32'>33</a>\u001b[0m         ffn_num_input,\n\u001b[0;32m     <a href='vscode-notebook-cell:/c%3A/Users/panbo/Desktop/bert-limu/bert-limu.ipynb#W3sZmlsZQ%3D%3D?line=33'>34</a>\u001b[0m         ffn_num_hiddens,\n\u001b[0;32m     <a href='vscode-notebook-cell:/c%3A/Users/panbo/Desktop/bert-limu/bert-limu.ipynb#W3sZmlsZQ%3D%3D?line=34'>35</a>\u001b[0m         num_heads,\n\u001b[0;32m     <a href='vscode-notebook-cell:/c%3A/Users/panbo/Desktop/bert-limu/bert-limu.ipynb#W3sZmlsZQ%3D%3D?line=35'>36</a>\u001b[0m         dropout,\n\u001b[0;32m     <a href='vscode-notebook-cell:/c%3A/Users/panbo/Desktop/bert-limu/bert-limu.ipynb#W3sZmlsZQ%3D%3D?line=36'>37</a>\u001b[0m         \u001b[39mTrue\u001b[39;00m\n\u001b[0;32m     <a href='vscode-notebook-cell:/c%3A/Users/panbo/Desktop/bert-limu/bert-limu.ipynb#W3sZmlsZQ%3D%3D?line=37'>38</a>\u001b[0m     ))\n\u001b[0;32m     <a href='vscode-notebook-cell:/c%3A/Users/panbo/Desktop/bert-limu/bert-limu.ipynb#W3sZmlsZQ%3D%3D?line=40'>41</a>\u001b[0m \u001b[39m#因为BERT中的位置编码是通过学习得到的，所以我们需要创建一个足够长的位置嵌入参数\u001b[39;00m\n\u001b[0;32m     <a href='vscode-notebook-cell:/c%3A/Users/panbo/Desktop/bert-limu/bert-limu.ipynb#W3sZmlsZQ%3D%3D?line=41'>42</a>\u001b[0m \u001b[39m#注意到这里初始化使用的是随机数\u001b[39;00m\n\u001b[0;32m     <a href='vscode-notebook-cell:/c%3A/Users/panbo/Desktop/bert-limu/bert-limu.ipynb#W3sZmlsZQ%3D%3D?line=42'>43</a>\u001b[0m \u001b[39mself\u001b[39m\u001b[39m.\u001b[39mpos_embedding \u001b[39m=\u001b[39m nn\u001b[39m.\u001b[39mParameter(torch\u001b[39m.\u001b[39mrandn(\u001b[39m1\u001b[39m, max_len, num_hiddens))\n",
      "\u001b[1;31mAttributeError\u001b[0m: module 'd2l.torch' has no attribute 'EncoderBlock'"
     ]
    }
   ],
   "source": [
    "vocab_size, num_hiddens, ffn_num_hiddens, num_heads = 10000, 768, 1024 ,4\n",
    "norm_shape, ffn_num_input, num_layers, dropout = [768], 768, 2, 0.2\n",
    "encoder = BERTEncoder(vocab_size, num_hiddens, norm_shape, ffn_num_input, ffn_num_hiddens, num_heads, num_layers,dropout\n",
    "                      )"
   ]
  },
  {
   "cell_type": "code",
   "execution_count": null,
   "metadata": {},
   "outputs": [],
   "source": [
    "def _replace_mlm_tokens(\n",
    "        tokens, candidate_pred_positions, num_mlm_preds, vocab\n",
    "):\n",
    "    \n",
    "    #为掩蔽语言模型的输入创建新的词元副本，其中输入可能包含替换的\"<mask> 词元和随机词元\n",
    "\n",
    "    mlm_input_tokens = [token for token in tokens]\n",
    "    pred_positions_and_labels = []\n",
    "    #打乱后用于掩蔽语言模型任务中获取15%的随机词元进行预测\n",
    "    random.shuffle(candidate_pred_positions)\n",
    "    for mlm_pred_position in candidate_pred_positions:\n",
    "        if len(pred_positions_and_labels) >= num_mlm_preds:\n",
    "            break\n",
    "        masked_token = None\n",
    "        # 80%的概率，把原有词元替换为<'mask'>词元\n",
    "        if random.random() < 0.8:\n",
    "            masked_token = '<mask>'\n",
    "        else:\n",
    "            #10%的概率，原有词元不发生任何改变\n",
    "            if random.random() < 0.5:\n",
    "                masked_token = tokens[mlm_pred_position]\n",
    "            else:\n",
    "                #10%的概率，用随机词元来替换\n",
    "                #这里的设计存在一个问题，vocab如果非常大，读取困难\n",
    "                masked_token = random.choice(vocab.idx_to_token)\n",
    "        \n",
    "        mlm_input_tokens[mlm_pred_position] = masked_token\n",
    "        #这里保存了idx和单词，但是是15%的都保存了，\n",
    "        pred_positions_and_labels.append(\n",
    "            (mlm_pred_position, tokens[mlm_pred_position])\n",
    "            )\n",
    "\n",
    "        return mlm_input_tokens, pred_positions_and_labels\n"
   ]
  },
  {
   "cell_type": "code",
   "execution_count": 5,
   "metadata": {},
   "outputs": [
    {
     "data": {
      "text/plain": [
       "[('panbo', 18)]"
      ]
     },
     "execution_count": 5,
     "metadata": {},
     "output_type": "execute_result"
    }
   ],
   "source": [
    "name =\"panbo\"\n",
    "age = 18\n",
    "mlm=[]\n",
    "mlm.append((name, age))\n",
    "mlm"
   ]
  },
  {
   "cell_type": "code",
   "execution_count": null,
   "metadata": {},
   "outputs": [],
   "source": [
    "def _get_mlm_data_from_tokens(tokens, vocab):\n",
    "    candidate_pred_positions = []\n",
    "    # tokens 是一个字符串列表\n",
    "    for i,token in enumerate(tokens):\n",
    "        # 首先屏蔽掉分隔符\n",
    "        if token in ['<cls>','<sep>']:\n",
    "            continue\n",
    "\n",
    "        candidate_pred_positions.append(i)\n",
    "    ##MLM 掩蔽语言模型任务中预测15%的随机词元\n",
    "    num_mlm_preds = max(1, round(len(tokens) * 0.15))  # 保证要预测的数据不为空\n",
    "    mlm_input_tokens, pred_positions_and_labels = _replace_mlm_tokens(\n",
    "        tokens, candidate_pred_positions, num_mlm_preds, vocab\n",
    "    ) \n",
    "\n",
    "    pred_positions_and_labels = sorted(pred_positions_and_labels,\n",
    "                                       key= lambda x:x[0])\n",
    "    \n",
    "    pred_positions = [v[0] for v in pred_positions_and_labels]\n",
    "    mlm_pred_labels = [v[1] for v in pred_positions_and_labels]\n",
    "    return vocab[mlm_input_tokens], pred_positions, vocab[mlm_pred_labels]\n",
    "\n",
    "    "
   ]
  },
  {
   "cell_type": "code",
   "execution_count": 7,
   "metadata": {},
   "outputs": [
    {
     "data": {
      "text/plain": [
       "[(1, 'B'), (2, 'C'), (3, 'A')]"
      ]
     },
     "execution_count": 7,
     "metadata": {},
     "output_type": "execute_result"
    }
   ],
   "source": [
    "pred_positions_and_labels = [(3, 'A'), (1, 'B'), (2, 'C')]\n",
    "pred_positions_and_labels = sorted(pred_positions_and_labels,\n",
    "                                       key= lambda x:x[0])\n",
    "pred_positions_and_labels"
   ]
  },
  {
   "cell_type": "code",
   "execution_count": 9,
   "metadata": {},
   "outputs": [
    {
     "data": {
      "text/plain": [
       "['A', 'B', 'C']"
      ]
     },
     "execution_count": 9,
     "metadata": {},
     "output_type": "execute_result"
    }
   ],
   "source": [
    "# Example input\n",
    "pred_positions_and_labels = [(3, 'A'), (1, 'B'), (2, 'C')]\n",
    "\n",
    "# Extracting pred_positions\n",
    "pred_positions = [v[0] for v in pred_positions_and_labels]\n",
    "# Result: [3, 1, 2]\n",
    "\n",
    "# Extracting mlm_pred_labels\n",
    "mlm_pred_labels = [v[1] for v in pred_positions_and_labels]\n",
    "# Result: ['A', 'B', 'C']\n",
    "\n",
    "numlist = []\n",
    "signallist = []\n",
    "\n",
    "for A,B in pred_positions_and_labels:\n",
    "    numlist.append(A)\n",
    "    signallist.append(B)\n",
    "\n",
    "numlist\n",
    "signallist"
   ]
  },
  {
   "cell_type": "code",
   "execution_count": 11,
   "metadata": {},
   "outputs": [
    {
     "data": {
      "text/plain": [
       "[3, 1, 2]"
      ]
     },
     "execution_count": 11,
     "metadata": {},
     "output_type": "execute_result"
    }
   ],
   "source": [
    "numlist"
   ]
  },
  {
   "cell_type": "code",
   "execution_count": 12,
   "metadata": {},
   "outputs": [],
   "source": [
    "def _pad_bert_inputs(examples, max_len, vocab):\n",
    "    max_num_mlm_preds = round(max_len * 0.15)\n",
    "    all_token_ids, all_segments, valid_lens,  = [], [], []\n",
    "    all_pred_positions, all_mlm_weights, all_mlm_labels = [], [], []\n",
    "    nsp_labels = []\n",
    "    for (token_ids, pred_positions, mlm_pred_label_ids, segments,\n",
    "         is_next) in examples:\n",
    "        all_token_ids.append(torch.tensor(token_ids + [vocab['<pad>']] * (\n",
    "            max_len - len(token_ids)), dtype=torch.long))\n",
    "        all_segments.append(torch.tensor(segments + [0] * (\n",
    "            max_len - len(segments)), dtype=torch.long))\n",
    "        # valid_lens不包括'<pad>'的计数\n",
    "        valid_lens.append(torch.tensor(len(token_ids), dtype=torch.float32))\n",
    "        all_pred_positions.append(torch.tensor(pred_positions + [0] * (\n",
    "            max_num_mlm_preds - len(pred_positions)), dtype=torch.long))\n",
    "        # 填充词元的预测将通过乘以0权重在损失中过滤掉\n",
    "        all_mlm_weights.append(\n",
    "            torch.tensor([1.0] * len(mlm_pred_label_ids) + [0.0] * (\n",
    "                max_num_mlm_preds - len(pred_positions)),\n",
    "                dtype=torch.float32))\n",
    "        all_mlm_labels.append(torch.tensor(mlm_pred_label_ids + [0] * (\n",
    "            max_num_mlm_preds - len(mlm_pred_label_ids)), dtype=torch.long))\n",
    "        nsp_labels.append(torch.tensor(is_next, dtype=torch.long))\n",
    "    return (all_token_ids, all_segments, valid_lens, all_pred_positions,\n",
    "            all_mlm_weights, all_mlm_labels, nsp_labels)"
   ]
  },
  {
   "cell_type": "code",
   "execution_count": null,
   "metadata": {},
   "outputs": [],
   "source": [
    "\n",
    "class _WikiTextDataset(torch.utils.data.Dataset):\n",
    "    def __init__(self, paragraphs, max_len):\n",
    "        # 输入paragraphs[i]是代表段落的句子字符串列表\n",
    "        # 而输出paragraphs[i]是代表段落的句子列表，其中每个句子都是词元列表\n",
    "        paragraphs = [d2l.tokenize(paragraph, token = 'word' ) for paragraph in paragraphs]\n",
    "        sentences = [sentence for paragraph in paragraphs for sentence in paragraph]\n",
    "        self.vocab = d2l.Vocab(sentences, min_freq = 5, reserved_tokens= [\n",
    "            '<pad>',\n",
    "            '<mask>',\n",
    "            '<cls>',\n",
    "            '<sep>'\n",
    "        ])\n",
    "\n",
    "        # 获取下一句预测任务的数据\n",
    "        # \n",
    "        examples = [\n",
    "            (_get_mlm_data_from_tokens(tokens, self.vocab) + (segments, is_next))\n",
    "            for tokens, segments, is_next in examples\n",
    "        ]\n",
    "\n",
    "        # 填充输入\n",
    "        (\n",
    "            self.all_token_ids, self.all_segments, self.valib_lens,\n",
    "            self.all_pred_positions, self.all_mlm_weights,\n",
    "            self.all_mlm_labels,\n",
    "            self.nsp_labels\n",
    "        ) = _pad_bert_inputs(examples, max_len, self.vocab)\n",
    "\n",
    "    \n",
    "    def __getitem__(self, idx):\n",
    "        return (\n",
    "            self.all_token_ids[idx], self.all_segments[idx],\n",
    "            self.valib_lens[idx], self.all_pred_positions[idx],\n",
    "            self.all_mlm_weights[idx], self.all_mlm_labels[idx],\n",
    "            self.nsp_labels[idx]\n",
    "        )\n",
    "    \n",
    "    def __len__(self):\n",
    "        return len(self.all_token_ids)\n"
   ]
  },
  {
   "cell_type": "code",
   "execution_count": null,
   "metadata": {},
   "outputs": [],
   "source": [
    "batch_size, max_len = 512, 64\n",
    "train_iter, vocab = load_data()\n"
   ]
  },
  {
   "cell_type": "code",
   "execution_count": null,
   "metadata": {},
   "outputs": [],
   "source": [
    "batch_size, max_len = 512,64\n",
    "\n",
    "net = d2l.BERTModel(\n",
    "    len(vocab),\n",
    "    num_hiddens = 128,\n",
    "    norm_shape = [128],\n",
    "    ffn_num_input = 128,\n",
    "    ffn_num_hiddens = 256,\n",
    "    num_heads = 2,\n",
    "    num_layers = 2,\n",
    "    dropout = 0.2,\n",
    "    key_size = 128,\n",
    "    query_size = 128,\n",
    "    value_size = 128,\n",
    "    hid_in_features = 128,\n",
    "    mlm_in_features = 128,\n",
    "    nsp_in_features = 128 \n",
    ")\n",
    "\n"
   ]
  },
  {
   "cell_type": "code",
   "execution_count": null,
   "metadata": {},
   "outputs": [],
   "source": [
    "loss = nn.CrossEntropyLoss()"
   ]
  },
  {
   "cell_type": "code",
   "execution_count": null,
   "metadata": {},
   "outputs": [],
   "source": [
    "def _get_batch_loss_bert(\n",
    "        net,\n",
    "        loss,\n",
    "        vocab_size,\n",
    "        tokens_X,\n",
    "        segments_X,\n",
    "        valid_lens_x,\n",
    "        pred_positions_X,\n",
    "        mlm_weights_X,\n",
    "        mlm_Y,\n",
    "        nsp_y\n",
    "):\n",
    "    ###前向传播\n",
    "    _, mlm_Y_hat, nsp_Y_hat = net(\n",
    "        tokens_X,\n",
    "        segments_X,\n",
    "        valid_lens_x.reshape(-1),\n",
    "        pred_positions_X\n",
    "    )\n",
    "\n",
    "    ## 计算掩蔽语言模型损失\n",
    "    mlm_l = loss(mlm_Y_hat.reshape(-1, vocab_size), mlm_Y.reshape(-1)) * mlm_weights_X.reshap(-1,1)\n",
    "    "
   ]
  },
  {
   "cell_type": "code",
   "execution_count": 2,
   "metadata": {},
   "outputs": [
    {
     "name": "stdout",
     "output_type": "stream",
     "text": [
      "原始数组形状: (1000,)\n",
      "重新形状后的数组形状: (20, 50)\n"
     ]
    }
   ],
   "source": [
    "import numpy as np\n",
    "\n",
    "# 假设你有一个包含1000个元素的一维数组\n",
    "original_array = np.arange(1000)\n",
    "\n",
    "# 设置vocab_size\n",
    "vocab_size = 50\n",
    "\n",
    "# 使用reshape对数组进行重新形状\n",
    "reshaped_array = original_array.reshape(-1, vocab_size)\n",
    "\n",
    "# 打印结果\n",
    "print(\"原始数组形状:\", original_array.shape)\n",
    "print(\"重新形状后的数组形状:\", reshaped_array.shape)\n"
   ]
  }
 ],
 "metadata": {
  "kernelspec": {
   "display_name": "base",
   "language": "python",
   "name": "python3"
  },
  "language_info": {
   "codemirror_mode": {
    "name": "ipython",
    "version": 3
   },
   "file_extension": ".py",
   "mimetype": "text/x-python",
   "name": "python",
   "nbconvert_exporter": "python",
   "pygments_lexer": "ipython3",
   "version": "3.9.13"
  }
 },
 "nbformat": 4,
 "nbformat_minor": 2
}
